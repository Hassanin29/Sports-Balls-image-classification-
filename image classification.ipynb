{
 "cells": [
  {
   "cell_type": "code",
   "execution_count": 1,
   "id": "49056990",
   "metadata": {},
   "outputs": [],
   "source": [
    "import os\n",
    "import pandas as pd\n",
    "import numpy\n",
    "import seaborn as sns\n",
    "import cv2\n",
    "import numpy as np\n",
    "from skimage import exposure\n",
    "import matplotlib.pyplot as plt\n",
    "from sklearn.decomposition import PCA\n",
    "from sklearn.preprocessing import StandardScaler\n",
    "from sklearn.model_selection import train_test_split\n",
    "from sklearn.metrics import confusion_matrix, classification_report\n",
    "from skimage.feature import hog\n",
    "from sklearn.decomposition import PCA"
   ]
  },
  {
   "cell_type": "code",
   "execution_count": 2,
   "id": "2484143f",
   "metadata": {},
   "outputs": [
    {
     "data": {
      "application/vnd.microsoft.datawrangler.viewer.v0+json": {
       "columns": [
        {
         "name": "index",
         "rawType": "int64",
         "type": "integer"
        },
        {
         "name": "file_path",
         "rawType": "object",
         "type": "string"
        },
        {
         "name": "label",
         "rawType": "object",
         "type": "string"
        }
       ],
       "conversionMethod": "pd.DataFrame",
       "ref": "7412bc4b-35d1-4164-9fbb-22f316846236",
       "rows": [
        [
         "0",
         "train\\american_football\\american_football_0.jpg",
         "american_football"
        ],
        [
         "1",
         "train\\american_football\\american_football_1.jpg",
         "american_football"
        ],
        [
         "2",
         "train\\american_football\\american_football_10.jpg",
         "american_football"
        ],
        [
         "3",
         "train\\american_football\\american_football_101.jpg",
         "american_football"
        ],
        [
         "4",
         "train\\american_football\\american_football_102.jpg",
         "american_football"
        ]
       ],
       "shape": {
        "columns": 2,
        "rows": 5
       }
      },
      "text/html": [
       "<div>\n",
       "<style scoped>\n",
       "    .dataframe tbody tr th:only-of-type {\n",
       "        vertical-align: middle;\n",
       "    }\n",
       "\n",
       "    .dataframe tbody tr th {\n",
       "        vertical-align: top;\n",
       "    }\n",
       "\n",
       "    .dataframe thead th {\n",
       "        text-align: right;\n",
       "    }\n",
       "</style>\n",
       "<table border=\"1\" class=\"dataframe\">\n",
       "  <thead>\n",
       "    <tr style=\"text-align: right;\">\n",
       "      <th></th>\n",
       "      <th>file_path</th>\n",
       "      <th>label</th>\n",
       "    </tr>\n",
       "  </thead>\n",
       "  <tbody>\n",
       "    <tr>\n",
       "      <th>0</th>\n",
       "      <td>train\\american_football\\american_football_0.jpg</td>\n",
       "      <td>american_football</td>\n",
       "    </tr>\n",
       "    <tr>\n",
       "      <th>1</th>\n",
       "      <td>train\\american_football\\american_football_1.jpg</td>\n",
       "      <td>american_football</td>\n",
       "    </tr>\n",
       "    <tr>\n",
       "      <th>2</th>\n",
       "      <td>train\\american_football\\american_football_10.jpg</td>\n",
       "      <td>american_football</td>\n",
       "    </tr>\n",
       "    <tr>\n",
       "      <th>3</th>\n",
       "      <td>train\\american_football\\american_football_101.jpg</td>\n",
       "      <td>american_football</td>\n",
       "    </tr>\n",
       "    <tr>\n",
       "      <th>4</th>\n",
       "      <td>train\\american_football\\american_football_102.jpg</td>\n",
       "      <td>american_football</td>\n",
       "    </tr>\n",
       "  </tbody>\n",
       "</table>\n",
       "</div>"
      ],
      "text/plain": [
       "                                           file_path              label\n",
       "0    train\\american_football\\american_football_0.jpg  american_football\n",
       "1    train\\american_football\\american_football_1.jpg  american_football\n",
       "2   train\\american_football\\american_football_10.jpg  american_football\n",
       "3  train\\american_football\\american_football_101.jpg  american_football\n",
       "4  train\\american_football\\american_football_102.jpg  american_football"
      ]
     },
     "execution_count": 2,
     "metadata": {},
     "output_type": "execute_result"
    }
   ],
   "source": [
    "main_dir_train = 'train'\n",
    "\n",
    "train_image_path = []\n",
    "train_labels = []\n",
    "\n",
    "train_label_folders = os.listdir(main_dir_train)\n",
    "for folder in train_label_folders:\n",
    "    folder_path = os.path.join(main_dir_train,folder)\n",
    "    files = os.listdir(folder_path)\n",
    "    for image in files:\n",
    "        image_path = os.path.join(folder_path,image)\n",
    "        train_image_path.append(image_path)\n",
    "        train_labels.append(folder)\n",
    "\n",
    "tr_df = pd.DataFrame(data={'file_path':train_image_path,'label':train_labels})\n",
    "tr_df.head()"
   ]
  },
  {
   "cell_type": "code",
   "execution_count": 3,
   "id": "02017b37",
   "metadata": {},
   "outputs": [
    {
     "data": {
      "application/vnd.microsoft.datawrangler.viewer.v0+json": {
       "columns": [
        {
         "name": "index",
         "rawType": "int64",
         "type": "integer"
        },
        {
         "name": "file_path",
         "rawType": "object",
         "type": "string"
        },
        {
         "name": "label",
         "rawType": "object",
         "type": "string"
        }
       ],
       "conversionMethod": "pd.DataFrame",
       "ref": "6752271b-c800-4d20-9772-c9f8ad0dae73",
       "rows": [
        [
         "0",
         "train\\american_football\\american_football_0.jpg",
         "american_football"
        ],
        [
         "1",
         "train\\american_football\\american_football_1.jpg",
         "american_football"
        ],
        [
         "2",
         "train\\american_football\\american_football_10.jpg",
         "american_football"
        ],
        [
         "3",
         "train\\american_football\\american_football_101.jpg",
         "american_football"
        ],
        [
         "4",
         "train\\american_football\\american_football_102.jpg",
         "american_football"
        ]
       ],
       "shape": {
        "columns": 2,
        "rows": 5
       }
      },
      "text/html": [
       "<div>\n",
       "<style scoped>\n",
       "    .dataframe tbody tr th:only-of-type {\n",
       "        vertical-align: middle;\n",
       "    }\n",
       "\n",
       "    .dataframe tbody tr th {\n",
       "        vertical-align: top;\n",
       "    }\n",
       "\n",
       "    .dataframe thead th {\n",
       "        text-align: right;\n",
       "    }\n",
       "</style>\n",
       "<table border=\"1\" class=\"dataframe\">\n",
       "  <thead>\n",
       "    <tr style=\"text-align: right;\">\n",
       "      <th></th>\n",
       "      <th>file_path</th>\n",
       "      <th>label</th>\n",
       "    </tr>\n",
       "  </thead>\n",
       "  <tbody>\n",
       "    <tr>\n",
       "      <th>0</th>\n",
       "      <td>train\\american_football\\american_football_0.jpg</td>\n",
       "      <td>american_football</td>\n",
       "    </tr>\n",
       "    <tr>\n",
       "      <th>1</th>\n",
       "      <td>train\\american_football\\american_football_1.jpg</td>\n",
       "      <td>american_football</td>\n",
       "    </tr>\n",
       "    <tr>\n",
       "      <th>2</th>\n",
       "      <td>train\\american_football\\american_football_10.jpg</td>\n",
       "      <td>american_football</td>\n",
       "    </tr>\n",
       "    <tr>\n",
       "      <th>3</th>\n",
       "      <td>train\\american_football\\american_football_101.jpg</td>\n",
       "      <td>american_football</td>\n",
       "    </tr>\n",
       "    <tr>\n",
       "      <th>4</th>\n",
       "      <td>train\\american_football\\american_football_102.jpg</td>\n",
       "      <td>american_football</td>\n",
       "    </tr>\n",
       "  </tbody>\n",
       "</table>\n",
       "</div>"
      ],
      "text/plain": [
       "                                           file_path              label\n",
       "0    train\\american_football\\american_football_0.jpg  american_football\n",
       "1    train\\american_football\\american_football_1.jpg  american_football\n",
       "2   train\\american_football\\american_football_10.jpg  american_football\n",
       "3  train\\american_football\\american_football_101.jpg  american_football\n",
       "4  train\\american_football\\american_football_102.jpg  american_football"
      ]
     },
     "execution_count": 3,
     "metadata": {},
     "output_type": "execute_result"
    }
   ],
   "source": [
    "main_dir_test = 'test'\n",
    "\n",
    "test_image_path = []\n",
    "test_labels = []\n",
    "\n",
    "test_label_folders = os.listdir(main_dir_test)\n",
    "for folder in test_label_folders:\n",
    "    folder_path = os.path.join(main_dir_test,folder)\n",
    "    files = os.listdir(folder_path)\n",
    "    for image in files:\n",
    "        image_path = os.path.join(folder_path,image)\n",
    "        test_image_path.append(image_path)\n",
    "        test_labels.append(folder)\n",
    "\n",
    "ts_df = pd.DataFrame(data={'file_path':train_image_path,'label':train_labels})\n",
    "ts_df.head()"
   ]
  },
  {
   "cell_type": "code",
   "execution_count": 4,
   "id": "147ef3bf",
   "metadata": {},
   "outputs": [
    {
     "data": {
      "application/vnd.microsoft.datawrangler.viewer.v0+json": {
       "columns": [
        {
         "name": "index",
         "rawType": "int64",
         "type": "integer"
        },
        {
         "name": "file_path",
         "rawType": "object",
         "type": "string"
        },
        {
         "name": "label",
         "rawType": "object",
         "type": "string"
        }
       ],
       "conversionMethod": "pd.DataFrame",
       "ref": "95dfb367-6ac2-4f07-bfaf-2495de073003",
       "rows": [
        [
         "0",
         "train\\american_football\\american_football_0.jpg",
         "american_football"
        ],
        [
         "1",
         "train\\american_football\\american_football_1.jpg",
         "american_football"
        ],
        [
         "2",
         "train\\american_football\\american_football_10.jpg",
         "american_football"
        ],
        [
         "3",
         "train\\american_football\\american_football_101.jpg",
         "american_football"
        ],
        [
         "4",
         "train\\american_football\\american_football_102.jpg",
         "american_football"
        ],
        [
         "5",
         "train\\american_football\\american_football_105.jpg",
         "american_football"
        ],
        [
         "6",
         "train\\american_football\\american_football_11.jpg",
         "american_football"
        ],
        [
         "7",
         "train\\american_football\\american_football_111.jpg",
         "american_football"
        ],
        [
         "8",
         "train\\american_football\\american_football_112.jpg",
         "american_football"
        ],
        [
         "9",
         "train\\american_football\\american_football_113.jpg",
         "american_football"
        ],
        [
         "10",
         "train\\american_football\\american_football_115.jpg",
         "american_football"
        ],
        [
         "11",
         "train\\american_football\\american_football_116.jpg",
         "american_football"
        ],
        [
         "12",
         "train\\american_football\\american_football_117.jpg",
         "american_football"
        ],
        [
         "13",
         "train\\american_football\\american_football_118.jpg",
         "american_football"
        ],
        [
         "14",
         "train\\american_football\\american_football_123.jpg",
         "american_football"
        ],
        [
         "15",
         "train\\american_football\\american_football_124.jpg",
         "american_football"
        ],
        [
         "16",
         "train\\american_football\\american_football_126.jpg",
         "american_football"
        ],
        [
         "17",
         "train\\american_football\\american_football_128.jpg",
         "american_football"
        ],
        [
         "18",
         "train\\american_football\\american_football_13.jpg",
         "american_football"
        ],
        [
         "19",
         "train\\american_football\\american_football_131.jpg",
         "american_football"
        ],
        [
         "20",
         "train\\american_football\\american_football_132.jpg",
         "american_football"
        ],
        [
         "21",
         "train\\american_football\\american_football_134.jpg",
         "american_football"
        ],
        [
         "22",
         "train\\american_football\\american_football_135.jpg",
         "american_football"
        ],
        [
         "23",
         "train\\american_football\\american_football_136.jpg",
         "american_football"
        ],
        [
         "24",
         "train\\american_football\\american_football_137.jpg",
         "american_football"
        ],
        [
         "25",
         "train\\american_football\\american_football_140.jpg",
         "american_football"
        ],
        [
         "26",
         "train\\american_football\\american_football_142.jpg",
         "american_football"
        ],
        [
         "27",
         "train\\american_football\\american_football_143.jpg",
         "american_football"
        ],
        [
         "28",
         "train\\american_football\\american_football_147.jpg",
         "american_football"
        ],
        [
         "29",
         "train\\american_football\\american_football_15.jpg",
         "american_football"
        ],
        [
         "30",
         "train\\american_football\\american_football_151.jpg",
         "american_football"
        ],
        [
         "31",
         "train\\american_football\\american_football_153.jpg",
         "american_football"
        ],
        [
         "32",
         "train\\american_football\\american_football_157.jpg",
         "american_football"
        ],
        [
         "33",
         "train\\american_football\\american_football_159.jpg",
         "american_football"
        ],
        [
         "34",
         "train\\american_football\\american_football_16.jpg",
         "american_football"
        ],
        [
         "35",
         "train\\american_football\\american_football_162.jpg",
         "american_football"
        ],
        [
         "36",
         "train\\american_football\\american_football_165.jpg",
         "american_football"
        ],
        [
         "37",
         "train\\american_football\\american_football_167.jpg",
         "american_football"
        ],
        [
         "38",
         "train\\american_football\\american_football_168.jpg",
         "american_football"
        ],
        [
         "39",
         "train\\american_football\\american_football_17.jpg",
         "american_football"
        ],
        [
         "40",
         "train\\american_football\\american_football_170.jpg",
         "american_football"
        ],
        [
         "41",
         "train\\american_football\\american_football_172.jpg",
         "american_football"
        ],
        [
         "42",
         "train\\american_football\\american_football_174.jpg",
         "american_football"
        ],
        [
         "43",
         "train\\american_football\\american_football_177.jpg",
         "american_football"
        ],
        [
         "44",
         "train\\american_football\\american_football_180.jpg",
         "american_football"
        ],
        [
         "45",
         "train\\american_football\\american_football_183.jpg",
         "american_football"
        ],
        [
         "46",
         "train\\american_football\\american_football_184.jpg",
         "american_football"
        ],
        [
         "47",
         "train\\american_football\\american_football_185.jpg",
         "american_football"
        ],
        [
         "48",
         "train\\american_football\\american_football_187.jpg",
         "american_football"
        ],
        [
         "49",
         "train\\american_football\\american_football_189.jpg",
         "american_football"
        ]
       ],
       "shape": {
        "columns": 2,
        "rows": 3877
       }
      },
      "text/html": [
       "<div>\n",
       "<style scoped>\n",
       "    .dataframe tbody tr th:only-of-type {\n",
       "        vertical-align: middle;\n",
       "    }\n",
       "\n",
       "    .dataframe tbody tr th {\n",
       "        vertical-align: top;\n",
       "    }\n",
       "\n",
       "    .dataframe thead th {\n",
       "        text-align: right;\n",
       "    }\n",
       "</style>\n",
       "<table border=\"1\" class=\"dataframe\">\n",
       "  <thead>\n",
       "    <tr style=\"text-align: right;\">\n",
       "      <th></th>\n",
       "      <th>file_path</th>\n",
       "      <th>label</th>\n",
       "    </tr>\n",
       "  </thead>\n",
       "  <tbody>\n",
       "    <tr>\n",
       "      <th>0</th>\n",
       "      <td>train\\american_football\\american_football_0.jpg</td>\n",
       "      <td>american_football</td>\n",
       "    </tr>\n",
       "    <tr>\n",
       "      <th>1</th>\n",
       "      <td>train\\american_football\\american_football_1.jpg</td>\n",
       "      <td>american_football</td>\n",
       "    </tr>\n",
       "    <tr>\n",
       "      <th>2</th>\n",
       "      <td>train\\american_football\\american_football_10.jpg</td>\n",
       "      <td>american_football</td>\n",
       "    </tr>\n",
       "    <tr>\n",
       "      <th>3</th>\n",
       "      <td>train\\american_football\\american_football_101.jpg</td>\n",
       "      <td>american_football</td>\n",
       "    </tr>\n",
       "    <tr>\n",
       "      <th>4</th>\n",
       "      <td>train\\american_football\\american_football_102.jpg</td>\n",
       "      <td>american_football</td>\n",
       "    </tr>\n",
       "    <tr>\n",
       "      <th>...</th>\n",
       "      <td>...</td>\n",
       "      <td>...</td>\n",
       "    </tr>\n",
       "    <tr>\n",
       "      <th>3872</th>\n",
       "      <td>train\\volleyball\\volleyball_95.jpg</td>\n",
       "      <td>volleyball</td>\n",
       "    </tr>\n",
       "    <tr>\n",
       "      <th>3873</th>\n",
       "      <td>train\\volleyball\\volleyball_96.jpg</td>\n",
       "      <td>volleyball</td>\n",
       "    </tr>\n",
       "    <tr>\n",
       "      <th>3874</th>\n",
       "      <td>train\\volleyball\\volleyball_97.jpg</td>\n",
       "      <td>volleyball</td>\n",
       "    </tr>\n",
       "    <tr>\n",
       "      <th>3875</th>\n",
       "      <td>train\\volleyball\\volleyball_98.jpg</td>\n",
       "      <td>volleyball</td>\n",
       "    </tr>\n",
       "    <tr>\n",
       "      <th>3876</th>\n",
       "      <td>train\\volleyball\\volleyball_99.jpg</td>\n",
       "      <td>volleyball</td>\n",
       "    </tr>\n",
       "  </tbody>\n",
       "</table>\n",
       "<p>3877 rows × 2 columns</p>\n",
       "</div>"
      ],
      "text/plain": [
       "                                              file_path              label\n",
       "0       train\\american_football\\american_football_0.jpg  american_football\n",
       "1       train\\american_football\\american_football_1.jpg  american_football\n",
       "2      train\\american_football\\american_football_10.jpg  american_football\n",
       "3     train\\american_football\\american_football_101.jpg  american_football\n",
       "4     train\\american_football\\american_football_102.jpg  american_football\n",
       "...                                                 ...                ...\n",
       "3872                 train\\volleyball\\volleyball_95.jpg         volleyball\n",
       "3873                 train\\volleyball\\volleyball_96.jpg         volleyball\n",
       "3874                 train\\volleyball\\volleyball_97.jpg         volleyball\n",
       "3875                 train\\volleyball\\volleyball_98.jpg         volleyball\n",
       "3876                 train\\volleyball\\volleyball_99.jpg         volleyball\n",
       "\n",
       "[3877 rows x 2 columns]"
      ]
     },
     "execution_count": 4,
     "metadata": {},
     "output_type": "execute_result"
    }
   ],
   "source": [
    "tr_df"
   ]
  },
  {
   "cell_type": "code",
   "execution_count": 5,
   "id": "f6dee941",
   "metadata": {},
   "outputs": [],
   "source": [
    "def preprocess_image(image):\n",
    "    # Resize\n",
    "    image = cv2.resize(image, (64, 64))\n",
    "    # Convert to grayscale\n",
    "    gray = cv2.cvtColor(image, cv2.COLOR_BGR2GRAY)\n",
    "    # Normalize\n",
    "    normalized = gray / 255.0\n",
    "    # Gaussian blur\n",
    "    blurred = cv2.GaussianBlur(normalized, (3, 3), 0) #3×3 grid\n",
    "    # CLAHE\n",
    "    clahe = cv2.createCLAHE(clipLimit=2.0, tileGridSize=(8, 8))\n",
    "    enhanced = clahe.apply((blurred * 255).astype(np.uint8))\n",
    "    return enhanced"
   ]
  },
  {
   "cell_type": "code",
   "execution_count": 12,
   "id": "cf2bec4c",
   "metadata": {},
   "outputs": [],
   "source": [
    "def segmentain_ball(image):\n",
    "    # Thresholding\n",
    "    _, thresh = cv2.threshold(image, 0, 255, cv2.THRESH_BINARY_INV + cv2.THRESH_OTSU)\n",
    "    # Morphological operations\n",
    "    kernel = np.ones((5, 5), np.uint8)\n",
    "    morph = cv2.morphologyEx(thresh, cv2.MORPH_CLOSE, kernel)\n",
    "    # Find contours\n",
    "    contours, _ = cv2.findContours(morph, cv2.RETR_EXTERNAL, cv2.CHAIN_APPROX_SIMPLE)\n",
    "    if contours:\n",
    "        largest_contour = max(contours, key=cv2.contourArea)\n",
    "        x, y, w, h = cv2.boundingRect(largest_contour)\n",
    "        segmented_ball = image[y:y+h, x:x+w]\n",
    "        return segmented_ball\n",
    "    return image"
   ]
  },
  {
   "cell_type": "code",
   "execution_count": 13,
   "id": "d1b26617",
   "metadata": {},
   "outputs": [],
   "source": [
    "\n",
    "def extract_hog_features(images, target_size=(64, 64)):\n",
    "    hog_features = []\n",
    "    for img in images:\n",
    "        # 1. Convert to grayscale if needed\n",
    "        if len(img.shape) == 3:\n",
    "            img = cv2.cvtColor(img, cv2.COLOR_RGB2GRAY)\n",
    "        \n",
    "        # 2. Resize to fixed dimensions\n",
    "        img = cv2.resize(img, target_size)\n",
    "        \n",
    "        # 3. Compute HOG features\n",
    "        features = hog(\n",
    "            img,\n",
    "            orientations=9,\n",
    "            pixels_per_cell=(8, 8),\n",
    "            cells_per_block=(2, 2),\n",
    "            visualize=False,\n",
    "            channel_axis=None\n",
    "        )\n",
    "        hog_features.append(features)\n",
    "    \n",
    "    return np.array(hog_features)\n"
   ]
  },
  {
   "cell_type": "code",
   "execution_count": null,
   "id": "1d42c8cd",
   "metadata": {},
   "outputs": [],
   "source": [
    "def load_data(tr_df, ts_df):\n",
    "    # Load images from file paths (replace with your actual image loading logic)\n",
    "    X_train = [cv2.imread(path, cv2.IMREAD_GRAYSCALE) for path in tr_df[\"file_path\"]]\n",
    "    X_test = [cv2.imread(path, cv2.IMREAD_GRAYSCALE) for path in ts_df[\"file_path\"]]\n",
    "    y_train = tr_df[\"label\"]\n",
    "    y_test = ts_df[\"label\"]\n",
    "    return X_train, X_test, y_train, y_test\n",
    "\n",
    "# Load data\n",
    "X_train, X_test, y_train, y_test = load_data(tr_df, ts_df)\n",
    "\n",
    "#apply preprocessing and segmentation\n",
    "X_train = [preprocess_image(cv2.imread(path)) for path in tr_df[\"file_path\"]]\n",
    "X_test = [preprocess_image(cv2.imread(path)) for path in ts_df[\"file_path\"]]\n",
    "X_train = [segmentain_ball(img) for img in X_train]\n",
    "X_test = [segmentain_ball(img) for img in X_test]\n",
    "\n",
    "X_train_hog = extract_hog_features(X_train)  # Shape: (n_train, 1764)\n",
    "pca = PCA(n_components=0.95)\n",
    "X_train_pca = pca.fit_transform(X_train_hog)\n",
    "\n",
    "# Testing\n",
    "X_test_hog = extract_hog_features(X_test)     # Shape: (n_test, 1764)\n",
    "X_test_pca = pca.transform(X_test_hog)\n",
    "\n",
    "\n",
    "\n"
   ]
  },
  {
   "cell_type": "code",
   "execution_count": 15,
   "id": "5eba070d",
   "metadata": {},
   "outputs": [
    {
     "name": "stdout",
     "output_type": "stream",
     "text": [
      "Best parameters: {'C': 1, 'gamma': 0.1}\n"
     ]
    }
   ],
   "source": [
    "# Define the model\n",
    "from sklearn.svm import SVC\n",
    "from sklearn.model_selection import GridSearchCV\n",
    "from sklearn.metrics import accuracy_score, classification_report, confusion_matrix\n",
    "\n",
    "param_grid = {'C': [0.1, 1], 'gamma': [0.01, 0.1, 1]}\n",
    "svm = GridSearchCV(SVC(kernel='rbf'), param_grid, cv=5)\n",
    "svm.fit(X_train_pca, y_train)\n",
    "\n",
    "print(\"Best parameters:\", svm.best_params_)\n",
    "y_pred = svm.predict(X_test_pca)"
   ]
  },
  {
   "cell_type": "code",
   "execution_count": 16,
   "id": "5089c898",
   "metadata": {},
   "outputs": [
    {
     "name": "stdout",
     "output_type": "stream",
     "text": [
      "Accuracy: 0.9868454990972402\n",
      "                   precision    recall  f1-score   support\n",
      "\n",
      "american_football       1.00      1.00      1.00       384\n",
      "         baseball       0.99      0.99      0.99       400\n",
      "       basketball       1.00      0.96      0.98       340\n",
      "    billiard_ball       0.98      0.99      0.99       646\n",
      "     cricket_ball       0.98      0.99      0.99       581\n",
      "         football       0.97      1.00      0.99       604\n",
      "      tennis_ball       0.99      0.97      0.98       490\n",
      "       volleyball       1.00      0.98      0.99       432\n",
      "\n",
      "         accuracy                           0.99      3877\n",
      "        macro avg       0.99      0.99      0.99      3877\n",
      "     weighted avg       0.99      0.99      0.99      3877\n",
      "\n"
     ]
    },
    {
     "data": {
      "image/png": "[encoded data removed]",
      "text/plain": [
       "<Figure size 640x480 with 2 Axes>"
      ]
     },
     "metadata": {},
     "output_type": "display_data"
    }
   ],
   "source": [
    "# Evaluate\n",
    "print(\"Accuracy:\", accuracy_score(y_test, y_pred))\n",
    "print(classification_report(y_test, y_pred))\n",
    "cm = confusion_matrix(y_test, y_pred)\n",
    "sns.heatmap(cm, annot=True, fmt='d')\n",
    "plt.xlabel('Predicted')\n",
    "plt.ylabel('True')\n",
    "plt.show()"
   ]
  },
  {
   "cell_type": "code",
   "execution_count": 17,
   "id": "efb8e81c",
   "metadata": {},
   "outputs": [
    {
     "data": {
      "text/plain": [
       "['svm_model.pkl']"
      ]
     },
     "execution_count": 17,
     "metadata": {},
     "output_type": "execute_result"
    }
   ],
   "source": [
    "#save the model\n",
    "import joblib\n",
    "joblib.dump(svm, 'svm_model.pkl')\n"
   ]
  },
  {
   "cell_type": "code",
   "execution_count": null,
   "id": "d35a79cb",
   "metadata": {},
   "outputs": [],
   "source": []
  }
 ],
 "metadata": {
  "kernelspec": {
   "display_name": "base",
   "language": "python",
   "name": "python3"
  },
  "language_info": {
   "codemirror_mode": {
    "name": "ipython",
    "version": 3
   },
   "file_extension": ".py",
   "mimetype": "text/x-python",
   "name": "python",
   "nbconvert_exporter": "python",
   "pygments_lexer": "ipython3",
   "version": "3.12.7"
  }
 },
 "nbformat": 4,
 "nbformat_minor": 5
}
